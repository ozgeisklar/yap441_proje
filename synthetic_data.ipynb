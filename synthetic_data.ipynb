{
 "cells": [
  {
   "cell_type": "code",
   "execution_count": 25,
   "metadata": {},
   "outputs": [],
   "source": [
    "import numpy as np\n",
    "import pandas as pd\n",
    "import matplotlib.pyplot as plt"
   ]
  },
  {
   "cell_type": "code",
   "execution_count": 26,
   "metadata": {},
   "outputs": [
    {
     "name": "stdout",
     "output_type": "stream",
     "text": [
      "✅ Elektronik, Gıda, Giysi, Kozmetik ve Ev İhtiyaçları Ürünleri NumPy Dizileri Oluşturuldu!\n"
     ]
    }
   ],
   "source": [
    "\n",
    "\n",
    "# 📌 1. Giysi, Kozmetik ve Ev İhtiyaçları Ürünleri için 100 Ürünlük NumPy Dizileri Oluşturma\n",
    "\n",
    "elektronik_urunleri_np = np.array([\n",
    "    \"Laptop\", \"Masaüstü Bilgisayar\", \"Tablet\", \"Akıllı Telefon\", \"Akıllı Saat\", \"E-Kitap Okuyucu\", \"Klavye\", \"Mouse\", \n",
    "    \"Kulaklık\", \"Bluetooth Hoparlör\", \"Mikrofon\", \"Webcam\", \"Monitör\", \"USB Bellek\", \"Harici Hard Disk\", \"SSD\", \n",
    "    \"RAM Bellek\", \"Ekran Kartı\", \"Anakart\", \"İşlemci\", \"Güç Kaynağı\", \"Kasa Fanı\", \"M.2 SSD\", \"USB Hub\", \n",
    "    \"Type-C Adaptör\", \"HDMI Kablo\", \"Ethernet Kablosu\", \"Ses Kartı\", \"Oyun Kolu\", \"VR Gözlük\", \"Kablosuz Şarj Cihazı\",\n",
    "    \"Güvenlik Kamerası\", \"IP Kamera\", \"Router\", \"Modem\", \"Wi-Fi Sinyal Güçlendirici\", \n",
    "    \"Termostat\", \"Kapı Kilidi\", \"Drone\", \"GoPro Kamera\", \"Grafik Tablet\", \n",
    "    \"3D Yazıcı\", \"Yazıcı\" \"Fotokopi Makinesi\", \"Tarayıcı\", \"Elektronik Kalem\",\n",
    "    \"Masaüstü Hoparlör\", \"DJ Kulaklık\", \"Oyun Monitörü\",\"Mouse Pad\", \"Kablosuz Mouse\",\n",
    "    \"Ses Yalıtım Paneli\", \"USB Mikrofon\", \"Kablosuz Kulaklık\", \"Dijital Kamera\",\n",
    "    \"Lens Seti\", \"Projektör\", \"Projektör Perdesi\", \"Hareket Sensörü\",\n",
    "    \"TV Box\", \"Uydu Alıcısı\", \"HDMI Switch\", \"Kablosuz Oyun Mouse\", \"Streaming Capture Card\",\n",
    "    \"Hava Temizleyici\", \"Saç Şekillendiricisi\", \"Robot Süpürge\", \"Elektrikli Scooter\", \n",
    "    \"Elektrikli Kaykay\", \"Elektrikli Bisiklet\", \n",
    "    \"Bluetooth Alıcı\", \"Bluetooth Verici\", \"Uzaktan Kumandalı Araç\", \"Mekanik Saat\",\n",
    "    \"GPS Cihazı\", \"Dijital Kalem\",\"buzdolabı\", \"çamaşır makinesi\",\"bulaşık makinesi\"\n",
    "    \"Kettle\", \"Termometre\",\"fırın\",\"ocak\",\"tost makinesi\",\"ütü\",\"blender\",\"fritöz\",\"airfryer\"\n",
    "])\n",
    "\n",
    "gida_urunleri_np = np.array([\n",
    "        \"Süt\", \"Peynir\", \"Yoğurt\", \"Tereyağı\", \"Kaşar Peyniri\", \"Beyaz Peynir\", \"Labne\", \"Ayran\",\n",
    "        \"Kırmızı Et\", \"Tavuk\", \"Balık\", \"Salam\", \"Sosis\", \"Sucuk\", \"Pastırma\",\n",
    "        \"Domates\", \"Salatalık\", \"Limon\", \"Elma\", \"Muz\", \"Portakal\", \"Üzüm\", \"Çilek\",\"Karpuz\",\"Erik\",\n",
    "        \"Patlıcan\",\"Patates\",\"Soğan\",\"Sarımsak\",\"Havuç\",\"Marul\",\"Maydonoz\",\"Karnabahar\",\"Brokoli\",\n",
    "        \"Avakado\",\"Mandalina\",\"Yulaf\",\"Pasta Kreması\",\"Kakao\",\"Kabartma Tozu\",\"Ketçap\",\"Mayonez\",\n",
    "        \"Hardal\",\"Acı Sos\", \"Fıstık Ezmesi\",\"Nutella\",\"Nar Ekşisi\",\"Sirke\",\n",
    "        \"Makarna\", \"Pirinç\", \"Bulgur\", \"Mercimek\", \"Nohut\", \"Fasulye\", \"İrmik\",\n",
    "        \"Un\", \"Şeker\", \"Pudra Şekeri\", \"Ekmek\", \"Lavaş\", \"Pide\", \"Simit\",\n",
    "        \"Zeytinyağı\", \"Ayçiçek Yağı\", \"Tereyağı\", \"Bal\", \"Pekmez\", \"Reçel\",\n",
    "        \"Çikolata\", \"Bisküvi\", \"Cips\", \"Mısır Gevreği\", \"Kuruyemiş\",\"Ceviz\",\"Fındık\",\"Badem\",\"Kaju\",\n",
    "        \"Yeşil Çay\",\"Şalgam\",\"Hurma\",\"Mısır Unu\",\"Fıstık\",\"Çekirdek\",\"Kuru Üzüm\",\"Ekmek\",\n",
    "        \"Çay\", \"Kahve\", \"Türk Kahvesi\", \"Espresso\", \"Bitki Çayı\", \"Meyve Suyu\", \"Limonata\",\n",
    "        \"Soda\", \"Maden Suyu\",\"Gazoz\",\"Redbull\",\"Şarap\",\"Bira\",\"Rakı\",\"Kola\"\n",
    "    ])\n",
    "\n",
    "giysi_urunleri_np = np.array([\n",
    "    \"Kot Pantolon\", \"Tişört\", \"Gömlek\", \"Ceket\", \"Mont\", \"Eşofman\", \"Spor Ayakkabı\", \"Bot\", \"Babet\", \"Şort\",\n",
    "    \"Bluz\", \"Elbise\", \"Takım Elbise\", \"Kravat\", \"Atkı\", \"Şapka\", \"Eldiven\", \"Çanta\", \"Cüzdan\", \"Deri Ceket\",\n",
    "    \"Süveter\", \"Hırka\", \"Kot Ceket\", \"Mayo\", \"Bikini\", \"Pijama Takımı\", \"Terlik\", \"Sneaker\", \"Spor Tayt\",\n",
    "    \"Kaban\", \"Deri Pantolon\", \"Kargo Pantolon\", \"Etek\", \"Tunik\", \"Tesettür Elbise\", \"Gelinlik\", \"Damatlık\",\n",
    "    \"Mezuniyet Elbisesi\", \"Sandalet\", \"Yağmurluk\", \"Kayak Montu\", \"Kayak Pantolonu\",\n",
    "    \"Tayt\", \"Korse\", \"Sweatshirt\", \"Tunik\", \"Spor Çantası\", \"Omuz Çantası\", \"Sırt Çantası\",\n",
    "    \"İç Çamaşırı\",\"külot\",\"sütyen\",\"külotlu çorap\" ,\"gecelik\", \"Ev Terliği\",\n",
    "    \"Bornoz\", \"Blazer Ceket\", \"Keten Pantolon\", \"Kumaş Pantolon\", \"Resmi Elbise\", \"Atlet\",\n",
    "    \"Şortlu Takım\", \"Yünlü Çorap\", \"Kışlık Atkı\", \"Güneş Gözlüğü\", \"Şemsiye\", \"Saç Bandı\", \"Bebek Kıyafeti\",\n",
    "    \"Çocuk Gömlek\", \"Çocuk Pantolon\", \"Kız Çocuk Elbise\", \"Erkek Çocuk Takım\", \"patik\", \"Bebek Tulum\",\n",
    "    \"Çocuk Yağmurluğu\", \"Okul Üniforması\", \"Bebek Uyku Tulumu\", \"Deniz Şortu\", \"Rüzgarlık\",\n",
    "    \"Polar Mont\", \"Softshell Ceket\", \"Termal İçlik\", \"Outdoor Ayakkabı\", \"Spor Çorap\", \"Diz Üstü Çorap\",\n",
    "    \"Gelin Tacı\", \"Pelerin\", \"Maskeli Kostüm\", \"Eldiven\", \"Topuklu Ayakkabı\",\n",
    "    \"Erkek Ceketi\", \"Abiye\", \"Dantel Elbise\"\n",
    "])\n",
    "\n",
    "ev_ihtiyaclari_urunleri_np = np.array([\n",
    "    # Temizlik Ürünleri\n",
    "    \"Bulaşık Deterjanı\", \"Çamaşır Suyu\", \"Çamaşır Deterjanı\", \"Oda Kokusu\", \"Kağıt Havlu\",\n",
    "    \"Tuvalet Kağıdı\", \"Çöp Torbası\", \"Sabun\", \"Halı Şampuanı\", \"Cam Sil\", \"Yüzey Temizleyici\", \n",
    "    \"Banyo Temizleyici\", \"Mop\", \"Mikrofiber Temizlik Bezi\", \"Klozet Temizleyici\", \n",
    "    \n",
    "    # Kırtasiye & Ofis Malzemeleri\n",
    "    \"Bant\", \"Yapıştırıcı\", \"Zımba\", \"Ataç\", \"Defter\", \"Kalem\", \"Silgi\", \"Makas\", \"Cetvel\",\n",
    "    \"Post-it\", \"Dosya\", \"Ajanda\", \"Keçeli Kalem\", \"A4 Kağıdı\", \"Renkli Kağıt\", \"Proje Çantası\", \n",
    "    \"Teknik Çizim Seti\", \"Beyaz Tahta Kalemi\", \"Fon Kartonu\", \"Kalem Kutusu\", \"Okul Çantası\", \n",
    "    \"Resim Defteri\", \"Çini Mürekkep\",\n",
    "\n",
    "    # Ev ve Yapı Market Ürünleri\n",
    "    \"Matkap\", \"Tornavida Seti\", \"Çekiç\", \"Testere\", \"Su Terazisi\", \"Şerit Metre\", \"Boya Fırçası\", \n",
    "    \"Silikon Tabancası\", \"Elektrikli Tornavida\", \"Priz\", \"Ampul\", \"Elektrik Kablosu\", \n",
    "    \"Priz Uzatma Kablosu\", \"Lamba\", \"Avize\", \"Duvar Saati\", \"Perde\", \"Halı\", \"Ahşap Masa\", \n",
    "    \"Sandalye\", \"Kitaplık\", \"Televizyon Ünitesi\", \"Sehpa\", \"Dolap\", \"Orta Sehpa\", \"Raf Ünitesi\",\n",
    "    \"Çelik Kapı Kilidi\", \"Kapı Zili\", \"Mutfak Rafı\", \"Banyo Dolabı\", \"Ayna\", \"Bebek Beşiği\",\n",
    "    \"Yatak\", \"Nevresim Takımı\", \"Yastık\", \"Yorgan\", \"Havlu Seti\", \"Saklama Kabı\", \"Sıcak Su Torbası\",\n",
    "    \"Yangın Söndürücü\", \"Mutfak Bıçak Seti\", \"Ahşap Kesme Tahtası\", \"Sprey Boya\", \"Çatal Bıçak Seti\"\n",
    "])\n",
    "\n",
    "# **Kozmetik** (Kişisel Bakım ve Kozmetik Ürünleri)\n",
    "kozmetik_urunleri_np = np.array([\n",
    "    # Makyaj Ürünleri\n",
    "    \"Ruj\", \"Fondöten\", \"Maskara\", \"Oje\", \"Eyeliner\", \"Göz Farı\", \"Allık\", \"Kaş Kalemi\",\n",
    "    \"BB Krem\", \"CC Krem\", \"Makyaj Süngeri\", \"Pudra\", \"Aseton\", \"Kahverengi Maskara\",\n",
    "    \"Göz Altı Kremi\", \"Jel Eyeliner\", \"Şeffaf Maskara\", \"Köpük Fondöten\", \"Tırnak Cilası\",\n",
    "    \"Tırnak Güçlendirici\", \"Kaş Sabitleyici\", \"Sedefli Oje\", \"Leke Kapatıcı\", \"Yüz Aydınlatıcı\",\n",
    "\n",
    "    # Cilt Bakım Ürünleri\n",
    "    \"Nemlendirici\", \"Yüz Serumu\", \"Güneş Kremi\", \"Peeling\", \"Kil Maskesi\", \"Aloe Vera\",\n",
    "    \"Banyo Tuzu\", \"Gözaltı Şişlik Giderici\", \"Dudak Koruyucu\", \"Dudak Yağı\", \"Argan Yağı\",\n",
    "    \"Hindistan Cevizi Yağı\", \"Cilt Temizleme Jeli\", \"Gül Suyu\", \"Propolis Serumu\", \"Yüz Temizleme Köpüğü\",\n",
    "    \"Cilt Sıkılaştırıcı Serum\", \"Dudak Peelingi\", \"Leke Açıcı Krem\", \n",
    "    \"Göz Şekillendirici\", \"Yüz Yogası Kremi\", \"Matlaştırıcı Tonik\", \"Lavanta Sabunu\", \"Saç Toniği\",\n",
    "\n",
    "    # Saç Bakım Ürünleri\n",
    "    \"Şampuan\", \"Saç Kremi\", \"Saç Maskesi\", \"Saç Düzleştirici Sprey\", \"Saç Köpüğü\", \"Saç Jölesi\",\n",
    "    \"Hacim Veren Şampuan\", \"Saç Onarıcı Serum\", \"Keratin Bakımı\", \"Doğal Şampuan\", \"Kuru Şampuan\",\n",
    "    \"Elektrikli Saç Şekillendirici\", \"Sarı Saç Bakım Seti\", \"Sprey Tonik\", \"Saç Güçlendirici Serum\",\n",
    "\n",
    "    # Erkek Bakım Ürünleri\n",
    "    \"Tıraş Köpüğü\", \"Tıraş Bıçağı\", \"Tıraş Jeli\", \"Tıraş Sonrası Losyon\", \"Sakal Yağı\",\n",
    "    \"Saç Şekillendirici Wax\", \"Erkek Roll-on\", \"Parfüm\", \"Erkek Yüz Temizleyici\", \"Erkek Cilt Maskesi\",\n",
    "    \n",
    "    # Hijyen Ürünleri\n",
    "    \"El Kremi\", \"Dudak Balmı\", \"Vücut Losyonu\", \"El Dezenfektanı\", \"Diş Macunu\", \"Diş Fırçası\",\n",
    "    \"Ağız Gargarası\", \"Pamuk\", \"Kulak Çubuğu\", \"Vücut Spreyi\", \"Hijyenik Ped\", \"Islak Mendil\",\n",
    "    \"Bebek Bezi\", \"Bebek Şampuanı\", \"Bebek Losyonu\", \"Bebek Pudrası\", \"Yüz Spreyi\", \"Nemlendirici Gece Kremi\"\n",
    "])\n",
    "print(\"✅ Elektronik, Gıda, Giysi, Kozmetik ve Ev İhtiyaçları Ürünleri NumPy Dizileri Oluşturuldu!\")\n"
   ]
  },
  {
   "cell_type": "code",
   "execution_count": 27,
   "metadata": {},
   "outputs": [
    {
     "name": "stdout",
     "output_type": "stream",
     "text": [
      "✅ Gıda, Elektronik, Giysi, kozmetik ve ev ihtiyaçları için veri dosyaları oluşturuldu:\n",
      " - giysi2.csv\n",
      " - kozmetik2.csv\n",
      " - ev2.csv\n"
     ]
    }
   ],
   "source": [
    "# 📌 2. 50 Mağaza ve Koordinatlarını Her Kategori İçin Oluştur\n",
    "\n",
    "num_magaza = 50\n",
    "np.random.seed(42)  # Rastgeleliği kontrol etmek için\n",
    "\n",
    "magaza_isimleri_giysi = np.array([f\"Giysi_Magaza_{i}\" for i in range(num_magaza)])\n",
    "magaza_isimleri_kozmetik = np.array([f\"Kozmetik_Magaza_{i}\" for i in range(num_magaza)])\n",
    "magaza_isimleri_ev = np.array([f\"Ev_Magaza_{i}\" for i in range(num_magaza)])\n",
    "magaza_isimleri_gida = np.array([f\"Gida_Magaza_{i}\" for i in range(num_magaza)])\n",
    "magaza_isimleri_elektronik = np.array([f\"Elektronik_Magaza_{i}\" for i in range(num_magaza)])\n",
    "\n",
    "magaza_konumlari_giysi = {magaza: (np.random.uniform(0, 100), np.random.uniform(0, 100)) for magaza in magaza_isimleri_giysi}\n",
    "magaza_konumlari_kozmetik = {magaza: (np.random.uniform(0, 100), np.random.uniform(0, 100)) for magaza in magaza_isimleri_kozmetik}\n",
    "magaza_konumlari_ev = {magaza: (np.random.uniform(0, 100), np.random.uniform(0, 100)) for magaza in magaza_isimleri_ev}\n",
    "magaza_konumlari_gida = {magaza: (np.random.uniform(0, 100), np.random.uniform(0, 100)) for magaza in magaza_isimleri_gida}\n",
    "magaza_konumlari_elektronik = {magaza: (np.random.uniform(0, 100), np.random.uniform(0, 100)) for magaza in magaza_isimleri_elektronik}\n",
    "\n",
    "# 📌 3. Her mağazaya rastgele 20-50 ürün ata\n",
    "\n",
    "magaza_urunleri_giysi = {\n",
    "    magaza: np.random.choice(giysi_urunleri_np, size=np.random.randint(20, 50), replace=False) \n",
    "    for magaza in magaza_isimleri_giysi\n",
    "}\n",
    "\n",
    "magaza_urunleri_kozmetik = {\n",
    "    magaza: np.random.choice(kozmetik_urunleri_np, size=np.random.randint(20, 50), replace=False) \n",
    "    for magaza in magaza_isimleri_kozmetik\n",
    "}\n",
    "\n",
    "magaza_urunleri_ev = {\n",
    "    magaza: np.random.choice(ev_ihtiyaclari_urunleri_np, size=np.random.randint(20, 50), replace=False) \n",
    "    for magaza in magaza_isimleri_ev\n",
    "}\n",
    "\n",
    "magaza_urunleri_gida = {\n",
    "    magaza: np.random.choice(gida_urunleri_np, size=np.random.randint(20, 50), replace=False) \n",
    "    for magaza in magaza_isimleri_gida\n",
    "}\n",
    "\n",
    "magaza_urunleri_elektronik = {\n",
    "    magaza: np.random.choice(elektronik_urunleri_np, size=np.random.randint(20, 50), replace=False) \n",
    "    for magaza in magaza_isimleri_elektronik\n",
    "}\n",
    "\n",
    "\n",
    "# 📌 4. Her mağaza-ürün çiftine rastgele fiyat ata (10-10,000 TL arasında)\n",
    "\n",
    "urun_fiyatlari_giysi = {\n",
    "    (magaza, urun): np.round(np.random.uniform(50, 2000), 2) \n",
    "    for magaza, urun_listesi in magaza_urunleri_giysi.items() \n",
    "    for urun in urun_listesi\n",
    "}\n",
    "\n",
    "urun_fiyatlari_kozmetik = {\n",
    "    (magaza, urun): np.round(np.random.uniform(10, 1000), 2) \n",
    "    for magaza, urun_listesi in magaza_urunleri_kozmetik.items() \n",
    "    for urun in urun_listesi\n",
    "}\n",
    "\n",
    "urun_fiyatlari_ev = {\n",
    "    (magaza, urun): np.round(np.random.uniform(100, 1000), 2) \n",
    "    for magaza, urun_listesi in magaza_urunleri_ev.items() \n",
    "    for urun in urun_listesi\n",
    "}\n",
    "\n",
    "urun_fiyatlari_gida = {\n",
    "    (magaza, urun): np.round(np.random.uniform(10, 200), 2) \n",
    "    for magaza, urun_listesi in magaza_urunleri_gida.items() \n",
    "    for urun in urun_listesi\n",
    "}\n",
    "\n",
    "urun_fiyatlari_elektronik = {\n",
    "    (magaza, urun): np.round(np.random.uniform(100, 10000), 2) \n",
    "    for magaza, urun_listesi in magaza_urunleri_elektronik.items() \n",
    "    for urun in urun_listesi\n",
    "}\n",
    "\n",
    "# 📌 5. NumPy ile Tek CSV Dosyasında Mağaza Konumları, Ürünler ve Fiyatları Kaydetme\n",
    "\n",
    "header = \"Mağaza,X_Koordinat,Y_Koordinat,Ürün,Fiyat\\n\"\n",
    "\n",
    "rows_giysi = [\n",
    "    f\"{magaza},{x},{y},{urun},{urun_fiyatlari_giysi[(magaza, urun)]}\"\n",
    "    for magaza, (x, y) in magaza_konumlari_giysi.items()\n",
    "    for urun in magaza_urunleri_giysi[magaza]\n",
    "]\n",
    "\n",
    "rows_kozmetik = [\n",
    "    f\"{magaza},{x},{y},{urun},{urun_fiyatlari_kozmetik[(magaza, urun)]}\"\n",
    "    for magaza, (x, y) in magaza_konumlari_kozmetik.items()\n",
    "    for urun in magaza_urunleri_kozmetik[magaza]\n",
    "]\n",
    "\n",
    "rows_ev = [\n",
    "    f\"{magaza},{x},{y},{urun},{urun_fiyatlari_ev[(magaza, urun)]}\"\n",
    "    for magaza, (x, y) in magaza_konumlari_ev.items()\n",
    "    for urun in magaza_urunleri_ev[magaza]\n",
    "]\n",
    "\n",
    "rows_gida = [\n",
    "    f\"{magaza},{x},{y},{urun},{urun_fiyatlari_gida[(magaza, urun)]}\"\n",
    "    for magaza, (x, y) in magaza_konumlari_gida.items()\n",
    "    for urun in magaza_urunleri_gida[magaza]\n",
    "]\n",
    "\n",
    "rows_elektronik = [\n",
    "    f\"{magaza},{x},{y},{urun},{urun_fiyatlari_elektronik[(magaza, urun)]}\"\n",
    "    for magaza, (x, y) in magaza_konumlari_elektronik.items()\n",
    "    for urun in magaza_urunleri_elektronik[magaza]\n",
    "]\n",
    "\n",
    "# Dosyaları kaydet\n",
    "csv_giysi = \"giysi2.csv\"\n",
    "csv_kozmetik = \"kozmetik2.csv\"\n",
    "csv_ev = \"ev2.csv\"\n",
    "csv_gida = \"gida2.csv\"\n",
    "csv_elektronik = \"elektronik2.csv\"\n",
    "\n",
    "with open(csv_giysi, \"w\", encoding=\"utf-8\") as f:\n",
    "    f.write(header)\n",
    "    f.write(\"\\n\".join(rows_giysi))\n",
    "\n",
    "with open(csv_kozmetik, \"w\", encoding=\"utf-8\") as f:\n",
    "    f.write(header)\n",
    "    f.write(\"\\n\".join(rows_kozmetik))\n",
    "\n",
    "with open(csv_ev, \"w\", encoding=\"utf-8\") as f:\n",
    "    f.write(header)\n",
    "    f.write(\"\\n\".join(rows_ev))\n",
    "\n",
    "with open(csv_gida, \"w\", encoding=\"utf-8\") as f:\n",
    "    f.write(header)\n",
    "    f.write(\"\\n\".join(rows_gida))\n",
    "\n",
    "with open(csv_elektronik, \"w\", encoding=\"utf-8\") as f:\n",
    "    f.write(header)\n",
    "    f.write(\"\\n\".join(rows_elektronik))\n",
    "\n",
    "print(f\"✅ Gıda, Elektronik, Giysi, kozmetik ve ev ihtiyaçları için veri dosyaları oluşturuldu:\\n - {csv_giysi}\\n - {csv_kozmetik}\\n - {csv_ev}\")\n"
   ]
  },
  {
   "cell_type": "code",
   "execution_count": 28,
   "metadata": {},
   "outputs": [
    {
     "data": {
      "text/plain": [
       "(91,)"
      ]
     },
     "execution_count": 28,
     "metadata": {},
     "output_type": "execute_result"
    }
   ],
   "source": [
    "kozmetik_urunleri_np.shape"
   ]
  },
  {
   "cell_type": "code",
   "execution_count": 29,
   "metadata": {},
   "outputs": [
    {
     "data": {
      "text/plain": [
       "(100,)"
      ]
     },
     "execution_count": 29,
     "metadata": {},
     "output_type": "execute_result"
    }
   ],
   "source": [
    "gida_urunleri_np.shape"
   ]
  },
  {
   "cell_type": "code",
   "execution_count": 30,
   "metadata": {},
   "outputs": [
    {
     "data": {
      "text/plain": [
       "(82,)"
      ]
     },
     "execution_count": 30,
     "metadata": {},
     "output_type": "execute_result"
    }
   ],
   "source": [
    "ev_ihtiyaclari_urunleri_np.shape"
   ]
  },
  {
   "cell_type": "code",
   "execution_count": 31,
   "metadata": {},
   "outputs": [
    {
     "data": {
      "text/plain": [
       "(86,)"
      ]
     },
     "execution_count": 31,
     "metadata": {},
     "output_type": "execute_result"
    }
   ],
   "source": [
    "elektronik_urunleri_np.shape"
   ]
  },
  {
   "cell_type": "code",
   "execution_count": 32,
   "metadata": {},
   "outputs": [
    {
     "data": {
      "text/plain": [
       "(93,)"
      ]
     },
     "execution_count": 32,
     "metadata": {},
     "output_type": "execute_result"
    }
   ],
   "source": [
    "giysi_urunleri_np.shape"
   ]
  },
  {
   "cell_type": "code",
   "execution_count": 33,
   "metadata": {},
   "outputs": [],
   "source": [
    "ortak_urunler_giysi_kozmetik = np.intersect1d(giysi_urunleri_np, kozmetik_urunleri_np)\n",
    "ortak_urunler_giysi_ev = np.intersect1d(giysi_urunleri_np, ev_ihtiyaclari_urunleri_np)\n",
    "ortak_urunler_kozmetik_ev = np.intersect1d(kozmetik_urunleri_np, ev_ihtiyaclari_urunleri_np)\n"
   ]
  },
  {
   "cell_type": "code",
   "execution_count": 34,
   "metadata": {},
   "outputs": [
    {
     "data": {
      "text/plain": [
       "(0,)"
      ]
     },
     "execution_count": 34,
     "metadata": {},
     "output_type": "execute_result"
    }
   ],
   "source": [
    "ortak_urunler_kozmetik_ev.shape"
   ]
  },
  {
   "cell_type": "code",
   "execution_count": 35,
   "metadata": {},
   "outputs": [
    {
     "data": {
      "image/png": "[encoded data removed]",
      "text/plain": [
       "<Figure size 1000x800 with 1 Axes>"
      ]
     },
     "metadata": {},
     "output_type": "display_data"
    },
    {
     "name": "stdout",
     "output_type": "stream",
     "text": [
      "✅ Tüm mağazaların konumları ve ürünleri birleştirilerek 'tum_sentetik2.csv' dosyası oluşturuldu.\n"
     ]
    }
   ],
   "source": [
    "import pandas as pd\n",
    "\n",
    "# 📌 1. Tüm CSV Dosyalarını Yükleme\n",
    "csv_files = [\n",
    "    \"gida2.csv\",\n",
    "    \"elektronik2.csv\",\n",
    "    \"giysi2.csv\",\n",
    "    \"kozmetik2.csv\",\n",
    "    \"ev2.csv\"\n",
    "]\n",
    "\n",
    "# Her dosyayı okuyup tek bir dataframe'e birleştirelim\n",
    "df_list = [pd.read_csv(csv) for csv in csv_files]\n",
    "\n",
    "# Tüm verileri birleştir\n",
    "merged_df = pd.concat(df_list, ignore_index=True)\n",
    "\n",
    "# 📌 2. Tüm Mağazaların Konumlarını Görselleştirme\n",
    "import matplotlib.pyplot as plt\n",
    "\n",
    "# Farklı kategorileri renklendirmek için mağaza isimlerindeki anahtar kelimelere göre renk atayalım\n",
    "colors = {\n",
    "    \"Gıda\": \"yellow\",\n",
    "    \"Elektronik\": \"red\",\n",
    "    \"Giysi\": \"blue\",\n",
    "    \"Kozmetik\": \"purple\",\n",
    "    \"Ev\": \"green\"\n",
    "}\n",
    "\n",
    "# Mağaza türüne göre renk belirleyelim\n",
    "merged_df[\"Color\"] = merged_df[\"Mağaza\"].apply(\n",
    "    lambda x: colors[\"Gıda\"] if \"Gida\" in x else\n",
    "              colors[\"Elektronik\"] if \"Elektronik\" in x else\n",
    "              colors[\"Giysi\"] if \"Giysi\" in x else\n",
    "              colors[\"Kozmetik\"] if \"Kozmetik\" in x else\n",
    "              colors[\"Ev\"]\n",
    ")\n",
    "\n",
    "# 📍 Mağaza konumlarını scatter plot ile görselleştirelim\n",
    "plt.figure(figsize=(10, 8))\n",
    "for category, color in colors.items():\n",
    "    subset = merged_df[merged_df[\"Color\"] == color]\n",
    "    plt.scatter(subset[\"X_Koordinat\"], subset[\"Y_Koordinat\"], label=category, c=color, alpha=0.6)\n",
    "\n",
    "plt.xlabel(\"X Koordinatı\")\n",
    "plt.ylabel(\"Y Koordinatı\")\n",
    "plt.title(\"Mağaza Konumları ve Kategorileri\")\n",
    "plt.legend()\n",
    "plt.grid(True)\n",
    "plt.show()\n",
    "\n",
    "\n",
    "\n",
    "# Birleştirilmiş CSV olarak kaydedelim\n",
    "merged_csv = \"tum_sentetik2.csv\"\n",
    "merged_df.to_csv(merged_csv, index=False)\n",
    "print(f\"✅ Tüm mağazaların konumları ve ürünleri birleştirilerek '{merged_csv}' dosyası oluşturuldu.\")\n"
   ]
  }
 ],
 "metadata": {
  "kernelspec": {
   "display_name": "yap441",
   "language": "python",
   "name": "python3"
  },
  "language_info": {
   "codemirror_mode": {
    "name": "ipython",
    "version": 3
   },
   "file_extension": ".py",
   "mimetype": "text/x-python",
   "name": "python",
   "nbconvert_exporter": "python",
   "pygments_lexer": "ipython3",
   "version": "3.10.16"
  }
 },
 "nbformat": 4,
 "nbformat_minor": 2
}
